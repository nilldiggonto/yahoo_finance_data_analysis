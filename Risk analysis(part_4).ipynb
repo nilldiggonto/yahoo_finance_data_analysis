{
 "cells": [
  {
   "cell_type": "code",
   "execution_count": 1,
   "metadata": {},
   "outputs": [],
   "source": [
    "import pandas as pd\n",
    "import numpy as np"
   ]
  },
  {
   "cell_type": "code",
   "execution_count": 6,
   "metadata": {},
   "outputs": [],
   "source": [
    "apple = pd.read_csv('close.csv',parse_dates=['Date'],index_col=['Date'])"
   ]
  },
  {
   "cell_type": "code",
   "execution_count": 7,
   "metadata": {},
   "outputs": [
    {
     "data": {
      "text/html": [
       "<div>\n",
       "<style scoped>\n",
       "    .dataframe tbody tr th:only-of-type {\n",
       "        vertical-align: middle;\n",
       "    }\n",
       "\n",
       "    .dataframe tbody tr th {\n",
       "        vertical-align: top;\n",
       "    }\n",
       "\n",
       "    .dataframe thead th {\n",
       "        text-align: right;\n",
       "    }\n",
       "</style>\n",
       "<table border=\"1\" class=\"dataframe\">\n",
       "  <thead>\n",
       "    <tr style=\"text-align: right;\">\n",
       "      <th></th>\n",
       "      <th>AAPL</th>\n",
       "      <th>BA</th>\n",
       "      <th>DIS</th>\n",
       "      <th>IBM</th>\n",
       "      <th>KO</th>\n",
       "      <th>MSFT</th>\n",
       "    </tr>\n",
       "    <tr>\n",
       "      <th>Date</th>\n",
       "      <th></th>\n",
       "      <th></th>\n",
       "      <th></th>\n",
       "      <th></th>\n",
       "      <th></th>\n",
       "      <th></th>\n",
       "    </tr>\n",
       "  </thead>\n",
       "  <tbody>\n",
       "    <tr>\n",
       "      <th>2009-12-31</th>\n",
       "      <td>7.526072</td>\n",
       "      <td>54.130001</td>\n",
       "      <td>32.25</td>\n",
       "      <td>130.899994</td>\n",
       "      <td>28.500000</td>\n",
       "      <td>30.480000</td>\n",
       "    </tr>\n",
       "    <tr>\n",
       "      <th>2010-01-04</th>\n",
       "      <td>7.643214</td>\n",
       "      <td>56.180000</td>\n",
       "      <td>32.07</td>\n",
       "      <td>132.449997</td>\n",
       "      <td>28.520000</td>\n",
       "      <td>30.950001</td>\n",
       "    </tr>\n",
       "    <tr>\n",
       "      <th>2010-01-05</th>\n",
       "      <td>7.656428</td>\n",
       "      <td>58.020000</td>\n",
       "      <td>31.99</td>\n",
       "      <td>130.850006</td>\n",
       "      <td>28.174999</td>\n",
       "      <td>30.959999</td>\n",
       "    </tr>\n",
       "    <tr>\n",
       "      <th>2010-01-06</th>\n",
       "      <td>7.534643</td>\n",
       "      <td>59.779999</td>\n",
       "      <td>31.82</td>\n",
       "      <td>130.000000</td>\n",
       "      <td>28.165001</td>\n",
       "      <td>30.770000</td>\n",
       "    </tr>\n",
       "    <tr>\n",
       "      <th>2010-01-07</th>\n",
       "      <td>7.520714</td>\n",
       "      <td>62.200001</td>\n",
       "      <td>31.83</td>\n",
       "      <td>129.550003</td>\n",
       "      <td>28.094999</td>\n",
       "      <td>30.450001</td>\n",
       "    </tr>\n",
       "  </tbody>\n",
       "</table>\n",
       "</div>"
      ],
      "text/plain": [
       "                AAPL         BA    DIS         IBM         KO       MSFT\n",
       "Date                                                                    \n",
       "2009-12-31  7.526072  54.130001  32.25  130.899994  28.500000  30.480000\n",
       "2010-01-04  7.643214  56.180000  32.07  132.449997  28.520000  30.950001\n",
       "2010-01-05  7.656428  58.020000  31.99  130.850006  28.174999  30.959999\n",
       "2010-01-06  7.534643  59.779999  31.82  130.000000  28.165001  30.770000\n",
       "2010-01-07  7.520714  62.200001  31.83  129.550003  28.094999  30.450001"
      ]
     },
     "execution_count": 7,
     "metadata": {},
     "output_type": "execute_result"
    }
   ],
   "source": [
    "apple.head()"
   ]
  },
  {
   "cell_type": "code",
   "execution_count": 8,
   "metadata": {},
   "outputs": [],
   "source": [
    "apple_1 = apple['AAPL'].copy().to_frame()"
   ]
  },
  {
   "cell_type": "code",
   "execution_count": 9,
   "metadata": {},
   "outputs": [
    {
     "data": {
      "text/html": [
       "<div>\n",
       "<style scoped>\n",
       "    .dataframe tbody tr th:only-of-type {\n",
       "        vertical-align: middle;\n",
       "    }\n",
       "\n",
       "    .dataframe tbody tr th {\n",
       "        vertical-align: top;\n",
       "    }\n",
       "\n",
       "    .dataframe thead th {\n",
       "        text-align: right;\n",
       "    }\n",
       "</style>\n",
       "<table border=\"1\" class=\"dataframe\">\n",
       "  <thead>\n",
       "    <tr style=\"text-align: right;\">\n",
       "      <th></th>\n",
       "      <th>AAPL</th>\n",
       "    </tr>\n",
       "    <tr>\n",
       "      <th>Date</th>\n",
       "      <th></th>\n",
       "    </tr>\n",
       "  </thead>\n",
       "  <tbody>\n",
       "    <tr>\n",
       "      <th>2009-12-31</th>\n",
       "      <td>7.526072</td>\n",
       "    </tr>\n",
       "    <tr>\n",
       "      <th>2010-01-04</th>\n",
       "      <td>7.643214</td>\n",
       "    </tr>\n",
       "    <tr>\n",
       "      <th>2010-01-05</th>\n",
       "      <td>7.656428</td>\n",
       "    </tr>\n",
       "    <tr>\n",
       "      <th>2010-01-06</th>\n",
       "      <td>7.534643</td>\n",
       "    </tr>\n",
       "    <tr>\n",
       "      <th>2010-01-07</th>\n",
       "      <td>7.520714</td>\n",
       "    </tr>\n",
       "  </tbody>\n",
       "</table>\n",
       "</div>"
      ],
      "text/plain": [
       "                AAPL\n",
       "Date                \n",
       "2009-12-31  7.526072\n",
       "2010-01-04  7.643214\n",
       "2010-01-05  7.656428\n",
       "2010-01-06  7.534643\n",
       "2010-01-07  7.520714"
      ]
     },
     "execution_count": 9,
     "metadata": {},
     "output_type": "execute_result"
    }
   ],
   "source": [
    "apple_1.head()"
   ]
  },
  {
   "cell_type": "code",
   "execution_count": 10,
   "metadata": {},
   "outputs": [],
   "source": [
    "pct_ret = apple_1.pct_change().dropna()"
   ]
  },
  {
   "cell_type": "code",
   "execution_count": 11,
   "metadata": {},
   "outputs": [
    {
     "data": {
      "text/html": [
       "<div>\n",
       "<style scoped>\n",
       "    .dataframe tbody tr th:only-of-type {\n",
       "        vertical-align: middle;\n",
       "    }\n",
       "\n",
       "    .dataframe tbody tr th {\n",
       "        vertical-align: top;\n",
       "    }\n",
       "\n",
       "    .dataframe thead th {\n",
       "        text-align: right;\n",
       "    }\n",
       "</style>\n",
       "<table border=\"1\" class=\"dataframe\">\n",
       "  <thead>\n",
       "    <tr style=\"text-align: right;\">\n",
       "      <th></th>\n",
       "      <th>AAPL</th>\n",
       "    </tr>\n",
       "    <tr>\n",
       "      <th>Date</th>\n",
       "      <th></th>\n",
       "    </tr>\n",
       "  </thead>\n",
       "  <tbody>\n",
       "    <tr>\n",
       "      <th>2010-01-04</th>\n",
       "      <td>0.015565</td>\n",
       "    </tr>\n",
       "    <tr>\n",
       "      <th>2010-01-05</th>\n",
       "      <td>0.001729</td>\n",
       "    </tr>\n",
       "    <tr>\n",
       "      <th>2010-01-06</th>\n",
       "      <td>-0.015906</td>\n",
       "    </tr>\n",
       "    <tr>\n",
       "      <th>2010-01-07</th>\n",
       "      <td>-0.001849</td>\n",
       "    </tr>\n",
       "    <tr>\n",
       "      <th>2010-01-08</th>\n",
       "      <td>0.006648</td>\n",
       "    </tr>\n",
       "  </tbody>\n",
       "</table>\n",
       "</div>"
      ],
      "text/plain": [
       "                AAPL\n",
       "Date                \n",
       "2010-01-04  0.015565\n",
       "2010-01-05  0.001729\n",
       "2010-01-06 -0.015906\n",
       "2010-01-07 -0.001849\n",
       "2010-01-08  0.006648"
      ]
     },
     "execution_count": 11,
     "metadata": {},
     "output_type": "execute_result"
    }
   ],
   "source": [
    "pct_ret.head()"
   ]
  },
  {
   "cell_type": "code",
   "execution_count": 12,
   "metadata": {},
   "outputs": [
    {
     "name": "stdout",
     "output_type": "stream",
     "text": [
      "<class 'pandas.core.frame.DataFrame'>\n",
      "DatetimeIndex: 2288 entries, 2010-01-04 to 2019-02-05\n",
      "Data columns (total 1 columns):\n",
      " #   Column  Non-Null Count  Dtype  \n",
      "---  ------  --------------  -----  \n",
      " 0   AAPL    2288 non-null   float64\n",
      "dtypes: float64(1)\n",
      "memory usage: 35.8 KB\n"
     ]
    }
   ],
   "source": [
    "pct_ret.info()"
   ]
  },
  {
   "cell_type": "code",
   "execution_count": 13,
   "metadata": {},
   "outputs": [],
   "source": [
    "import matplotlib.pyplot as plt\n",
    "import seaborn as sns\n",
    "sns.set(palette='rainbow')"
   ]
  },
  {
   "cell_type": "code",
   "execution_count": 14,
   "metadata": {},
   "outputs": [
    {
     "data": {
      "image/png": "[encoded data removed]",
      "text/plain": [
       "<Figure size 864x576 with 1 Axes>"
      ]
     },
     "metadata": {
      "needs_background": "light"
     },
     "output_type": "display_data"
    }
   ],
   "source": [
    "pct_ret.plot(kind='hist',figsize=(12,8),bins=100)\n",
    "plt.show()"
   ]
  },
  {
   "cell_type": "code",
   "execution_count": 15,
   "metadata": {},
   "outputs": [],
   "source": [
    "###"
   ]
  },
  {
   "cell_type": "code",
   "execution_count": 16,
   "metadata": {},
   "outputs": [],
   "source": [
    "#mean"
   ]
  },
  {
   "cell_type": "code",
   "execution_count": 17,
   "metadata": {},
   "outputs": [
    {
     "data": {
      "text/plain": [
       "AAPL    0.000902\n",
       "dtype: float64"
      ]
     },
     "execution_count": 17,
     "metadata": {},
     "output_type": "execute_result"
    }
   ],
   "source": [
    "daily_mean_return = pct_ret.mean()\n",
    "daily_mean_return"
   ]
  },
  {
   "cell_type": "code",
   "execution_count": 19,
   "metadata": {},
   "outputs": [
    {
     "data": {
      "text/plain": [
       "AAPL    0.000269\n",
       "dtype: float64"
      ]
     },
     "execution_count": 19,
     "metadata": {},
     "output_type": "execute_result"
    }
   ],
   "source": [
    "var_daily_return = pct_ret.var()\n",
    "var_daily_return"
   ]
  },
  {
   "cell_type": "code",
   "execution_count": 20,
   "metadata": {},
   "outputs": [
    {
     "data": {
      "text/plain": [
       "AAPL    0.016394\n",
       "dtype: float64"
      ]
     },
     "execution_count": 20,
     "metadata": {},
     "output_type": "execute_result"
    }
   ],
   "source": [
    "std_daily_return = np.sqrt(var_daily_return)\n",
    "std_daily_return"
   ]
  },
  {
   "cell_type": "code",
   "execution_count": 21,
   "metadata": {},
   "outputs": [
    {
     "data": {
      "text/plain": [
       "AAPL    0.016394\n",
       "dtype: float64"
      ]
     },
     "execution_count": 21,
     "metadata": {},
     "output_type": "execute_result"
    }
   ],
   "source": [
    "pct_ret.std()"
   ]
  },
  {
   "cell_type": "code",
   "execution_count": 22,
   "metadata": {},
   "outputs": [],
   "source": [
    "##annual"
   ]
  },
  {
   "cell_type": "code",
   "execution_count": 24,
   "metadata": {},
   "outputs": [
    {
     "data": {
      "text/plain": [
       "AAPL    0.227324\n",
       "dtype: float64"
      ]
     },
     "execution_count": 24,
     "metadata": {},
     "output_type": "execute_result"
    }
   ],
   "source": [
    "ann_mean_return = pct_ret.mean()*252  #252 trading days\n",
    "ann_mean_return"
   ]
  },
  {
   "cell_type": "code",
   "execution_count": 25,
   "metadata": {},
   "outputs": [],
   "source": [
    "ann_var_return = pct_ret.var()*252"
   ]
  },
  {
   "cell_type": "code",
   "execution_count": 26,
   "metadata": {},
   "outputs": [
    {
     "data": {
      "text/plain": [
       "AAPL    0.067726\n",
       "dtype: float64"
      ]
     },
     "execution_count": 26,
     "metadata": {},
     "output_type": "execute_result"
    }
   ],
   "source": [
    "ann_var_return"
   ]
  },
  {
   "cell_type": "code",
   "execution_count": 27,
   "metadata": {},
   "outputs": [],
   "source": [
    "ann_std_return = np.sqrt(ann_var_return)"
   ]
  },
  {
   "cell_type": "code",
   "execution_count": 28,
   "metadata": {},
   "outputs": [
    {
     "data": {
      "text/plain": [
       "AAPL    0.260243\n",
       "dtype: float64"
      ]
     },
     "execution_count": 28,
     "metadata": {},
     "output_type": "execute_result"
    }
   ],
   "source": [
    "ann_std_return"
   ]
  },
  {
   "cell_type": "code",
   "execution_count": 29,
   "metadata": {},
   "outputs": [
    {
     "data": {
      "text/plain": [
       "AAPL    0.260243\n",
       "dtype: float64"
      ]
     },
     "execution_count": 29,
     "metadata": {},
     "output_type": "execute_result"
    }
   ],
   "source": [
    "pct_ret.std() * np.sqrt(252)"
   ]
  },
  {
   "cell_type": "code",
   "execution_count": 30,
   "metadata": {},
   "outputs": [],
   "source": [
    "normalize_close = pd.read_csv('norm_close.csv',parse_dates=['Date'],index_col=['Date'])"
   ]
  },
  {
   "cell_type": "code",
   "execution_count": 31,
   "metadata": {},
   "outputs": [
    {
     "data": {
      "text/html": [
       "<div>\n",
       "<style scoped>\n",
       "    .dataframe tbody tr th:only-of-type {\n",
       "        vertical-align: middle;\n",
       "    }\n",
       "\n",
       "    .dataframe tbody tr th {\n",
       "        vertical-align: top;\n",
       "    }\n",
       "\n",
       "    .dataframe thead th {\n",
       "        text-align: right;\n",
       "    }\n",
       "</style>\n",
       "<table border=\"1\" class=\"dataframe\">\n",
       "  <thead>\n",
       "    <tr style=\"text-align: right;\">\n",
       "      <th></th>\n",
       "      <th>AAPL</th>\n",
       "      <th>BA</th>\n",
       "      <th>DIS</th>\n",
       "      <th>IBM</th>\n",
       "      <th>KO</th>\n",
       "      <th>MSFT</th>\n",
       "    </tr>\n",
       "    <tr>\n",
       "      <th>Date</th>\n",
       "      <th></th>\n",
       "      <th></th>\n",
       "      <th></th>\n",
       "      <th></th>\n",
       "      <th></th>\n",
       "      <th></th>\n",
       "    </tr>\n",
       "  </thead>\n",
       "  <tbody>\n",
       "    <tr>\n",
       "      <th>2009-12-31</th>\n",
       "      <td>100.000000</td>\n",
       "      <td>100.000000</td>\n",
       "      <td>100.000000</td>\n",
       "      <td>100.000000</td>\n",
       "      <td>100.000000</td>\n",
       "      <td>100.000000</td>\n",
       "    </tr>\n",
       "    <tr>\n",
       "      <th>2010-01-04</th>\n",
       "      <td>101.556492</td>\n",
       "      <td>103.787178</td>\n",
       "      <td>99.441860</td>\n",
       "      <td>101.184112</td>\n",
       "      <td>100.070177</td>\n",
       "      <td>101.541999</td>\n",
       "    </tr>\n",
       "    <tr>\n",
       "      <th>2010-01-05</th>\n",
       "      <td>101.732069</td>\n",
       "      <td>107.186402</td>\n",
       "      <td>99.193798</td>\n",
       "      <td>99.961812</td>\n",
       "      <td>98.859646</td>\n",
       "      <td>101.574802</td>\n",
       "    </tr>\n",
       "    <tr>\n",
       "      <th>2010-01-06</th>\n",
       "      <td>100.113886</td>\n",
       "      <td>110.437830</td>\n",
       "      <td>98.666666</td>\n",
       "      <td>99.312457</td>\n",
       "      <td>98.824565</td>\n",
       "      <td>100.951447</td>\n",
       "    </tr>\n",
       "    <tr>\n",
       "      <th>2010-01-07</th>\n",
       "      <td>99.928817</td>\n",
       "      <td>114.908553</td>\n",
       "      <td>98.697674</td>\n",
       "      <td>98.968685</td>\n",
       "      <td>98.578945</td>\n",
       "      <td>99.901579</td>\n",
       "    </tr>\n",
       "  </tbody>\n",
       "</table>\n",
       "</div>"
      ],
      "text/plain": [
       "                  AAPL          BA         DIS         IBM          KO  \\\n",
       "Date                                                                     \n",
       "2009-12-31  100.000000  100.000000  100.000000  100.000000  100.000000   \n",
       "2010-01-04  101.556492  103.787178   99.441860  101.184112  100.070177   \n",
       "2010-01-05  101.732069  107.186402   99.193798   99.961812   98.859646   \n",
       "2010-01-06  100.113886  110.437830   98.666666   99.312457   98.824565   \n",
       "2010-01-07   99.928817  114.908553   98.697674   98.968685   98.578945   \n",
       "\n",
       "                  MSFT  \n",
       "Date                    \n",
       "2009-12-31  100.000000  \n",
       "2010-01-04  101.541999  \n",
       "2010-01-05  101.574802  \n",
       "2010-01-06  100.951447  \n",
       "2010-01-07   99.901579  "
      ]
     },
     "execution_count": 31,
     "metadata": {},
     "output_type": "execute_result"
    }
   ],
   "source": [
    "normalize_close.head()"
   ]
  },
  {
   "cell_type": "code",
   "execution_count": 32,
   "metadata": {},
   "outputs": [
    {
     "data": {
      "image/png": "[encoded data removed]",
      "text/plain": [
       "<Figure size 1080x576 with 1 Axes>"
      ]
     },
     "metadata": {
      "needs_background": "light"
     },
     "output_type": "display_data"
    }
   ],
   "source": [
    "normalize_close.plot(figsize=(15,8),fontsize=13)\n",
    "plt.legend(fontsize=13)\n",
    "plt.show()"
   ]
  },
  {
   "cell_type": "code",
   "execution_count": 33,
   "metadata": {},
   "outputs": [],
   "source": [
    "close = apple.copy()"
   ]
  },
  {
   "cell_type": "code",
   "execution_count": 34,
   "metadata": {},
   "outputs": [
    {
     "data": {
      "text/html": [
       "<div>\n",
       "<style scoped>\n",
       "    .dataframe tbody tr th:only-of-type {\n",
       "        vertical-align: middle;\n",
       "    }\n",
       "\n",
       "    .dataframe tbody tr th {\n",
       "        vertical-align: top;\n",
       "    }\n",
       "\n",
       "    .dataframe thead th {\n",
       "        text-align: right;\n",
       "    }\n",
       "</style>\n",
       "<table border=\"1\" class=\"dataframe\">\n",
       "  <thead>\n",
       "    <tr style=\"text-align: right;\">\n",
       "      <th></th>\n",
       "      <th>AAPL</th>\n",
       "      <th>BA</th>\n",
       "      <th>DIS</th>\n",
       "      <th>IBM</th>\n",
       "      <th>KO</th>\n",
       "      <th>MSFT</th>\n",
       "    </tr>\n",
       "    <tr>\n",
       "      <th>Date</th>\n",
       "      <th></th>\n",
       "      <th></th>\n",
       "      <th></th>\n",
       "      <th></th>\n",
       "      <th></th>\n",
       "      <th></th>\n",
       "    </tr>\n",
       "  </thead>\n",
       "  <tbody>\n",
       "    <tr>\n",
       "      <th>2009-12-31</th>\n",
       "      <td>7.526072</td>\n",
       "      <td>54.130001</td>\n",
       "      <td>32.25</td>\n",
       "      <td>130.899994</td>\n",
       "      <td>28.500000</td>\n",
       "      <td>30.480000</td>\n",
       "    </tr>\n",
       "    <tr>\n",
       "      <th>2010-01-04</th>\n",
       "      <td>7.643214</td>\n",
       "      <td>56.180000</td>\n",
       "      <td>32.07</td>\n",
       "      <td>132.449997</td>\n",
       "      <td>28.520000</td>\n",
       "      <td>30.950001</td>\n",
       "    </tr>\n",
       "    <tr>\n",
       "      <th>2010-01-05</th>\n",
       "      <td>7.656428</td>\n",
       "      <td>58.020000</td>\n",
       "      <td>31.99</td>\n",
       "      <td>130.850006</td>\n",
       "      <td>28.174999</td>\n",
       "      <td>30.959999</td>\n",
       "    </tr>\n",
       "    <tr>\n",
       "      <th>2010-01-06</th>\n",
       "      <td>7.534643</td>\n",
       "      <td>59.779999</td>\n",
       "      <td>31.82</td>\n",
       "      <td>130.000000</td>\n",
       "      <td>28.165001</td>\n",
       "      <td>30.770000</td>\n",
       "    </tr>\n",
       "    <tr>\n",
       "      <th>2010-01-07</th>\n",
       "      <td>7.520714</td>\n",
       "      <td>62.200001</td>\n",
       "      <td>31.83</td>\n",
       "      <td>129.550003</td>\n",
       "      <td>28.094999</td>\n",
       "      <td>30.450001</td>\n",
       "    </tr>\n",
       "  </tbody>\n",
       "</table>\n",
       "</div>"
      ],
      "text/plain": [
       "                AAPL         BA    DIS         IBM         KO       MSFT\n",
       "Date                                                                    \n",
       "2009-12-31  7.526072  54.130001  32.25  130.899994  28.500000  30.480000\n",
       "2010-01-04  7.643214  56.180000  32.07  132.449997  28.520000  30.950001\n",
       "2010-01-05  7.656428  58.020000  31.99  130.850006  28.174999  30.959999\n",
       "2010-01-06  7.534643  59.779999  31.82  130.000000  28.165001  30.770000\n",
       "2010-01-07  7.520714  62.200001  31.83  129.550003  28.094999  30.450001"
      ]
     },
     "execution_count": 34,
     "metadata": {},
     "output_type": "execute_result"
    }
   ],
   "source": [
    "close.head()"
   ]
  },
  {
   "cell_type": "code",
   "execution_count": 36,
   "metadata": {},
   "outputs": [
    {
     "data": {
      "text/html": [
       "<div>\n",
       "<style scoped>\n",
       "    .dataframe tbody tr th:only-of-type {\n",
       "        vertical-align: middle;\n",
       "    }\n",
       "\n",
       "    .dataframe tbody tr th {\n",
       "        vertical-align: top;\n",
       "    }\n",
       "\n",
       "    .dataframe thead th {\n",
       "        text-align: right;\n",
       "    }\n",
       "</style>\n",
       "<table border=\"1\" class=\"dataframe\">\n",
       "  <thead>\n",
       "    <tr style=\"text-align: right;\">\n",
       "      <th></th>\n",
       "      <th>AAPL</th>\n",
       "      <th>BA</th>\n",
       "      <th>DIS</th>\n",
       "      <th>IBM</th>\n",
       "      <th>KO</th>\n",
       "      <th>MSFT</th>\n",
       "    </tr>\n",
       "    <tr>\n",
       "      <th>Date</th>\n",
       "      <th></th>\n",
       "      <th></th>\n",
       "      <th></th>\n",
       "      <th></th>\n",
       "      <th></th>\n",
       "      <th></th>\n",
       "    </tr>\n",
       "  </thead>\n",
       "  <tbody>\n",
       "    <tr>\n",
       "      <th>2010-01-04</th>\n",
       "      <td>0.015565</td>\n",
       "      <td>0.037872</td>\n",
       "      <td>-0.005581</td>\n",
       "      <td>0.011841</td>\n",
       "      <td>0.000702</td>\n",
       "      <td>0.015420</td>\n",
       "    </tr>\n",
       "    <tr>\n",
       "      <th>2010-01-05</th>\n",
       "      <td>0.001729</td>\n",
       "      <td>0.032752</td>\n",
       "      <td>-0.002495</td>\n",
       "      <td>-0.012080</td>\n",
       "      <td>-0.012097</td>\n",
       "      <td>0.000323</td>\n",
       "    </tr>\n",
       "    <tr>\n",
       "      <th>2010-01-06</th>\n",
       "      <td>-0.015906</td>\n",
       "      <td>0.030334</td>\n",
       "      <td>-0.005314</td>\n",
       "      <td>-0.006496</td>\n",
       "      <td>-0.000355</td>\n",
       "      <td>-0.006137</td>\n",
       "    </tr>\n",
       "    <tr>\n",
       "      <th>2010-01-07</th>\n",
       "      <td>-0.001849</td>\n",
       "      <td>0.040482</td>\n",
       "      <td>0.000314</td>\n",
       "      <td>-0.003462</td>\n",
       "      <td>-0.002485</td>\n",
       "      <td>-0.010400</td>\n",
       "    </tr>\n",
       "    <tr>\n",
       "      <th>2010-01-08</th>\n",
       "      <td>0.006648</td>\n",
       "      <td>-0.009646</td>\n",
       "      <td>0.001571</td>\n",
       "      <td>0.010035</td>\n",
       "      <td>-0.018509</td>\n",
       "      <td>0.006897</td>\n",
       "    </tr>\n",
       "    <tr>\n",
       "      <th>...</th>\n",
       "      <td>...</td>\n",
       "      <td>...</td>\n",
       "      <td>...</td>\n",
       "      <td>...</td>\n",
       "      <td>...</td>\n",
       "      <td>...</td>\n",
       "    </tr>\n",
       "    <tr>\n",
       "      <th>2019-01-30</th>\n",
       "      <td>0.068335</td>\n",
       "      <td>0.062509</td>\n",
       "      <td>-0.006943</td>\n",
       "      <td>0.000372</td>\n",
       "      <td>0.009705</td>\n",
       "      <td>0.033417</td>\n",
       "    </tr>\n",
       "    <tr>\n",
       "      <th>2019-01-31</th>\n",
       "      <td>0.007201</td>\n",
       "      <td>-0.005416</td>\n",
       "      <td>0.012621</td>\n",
       "      <td>0.000298</td>\n",
       "      <td>0.005641</td>\n",
       "      <td>-0.018330</td>\n",
       "    </tr>\n",
       "    <tr>\n",
       "      <th>2019-02-01</th>\n",
       "      <td>0.000481</td>\n",
       "      <td>0.004694</td>\n",
       "      <td>-0.001973</td>\n",
       "      <td>-0.002381</td>\n",
       "      <td>0.011843</td>\n",
       "      <td>-0.015800</td>\n",
       "    </tr>\n",
       "    <tr>\n",
       "      <th>2019-02-04</th>\n",
       "      <td>0.028405</td>\n",
       "      <td>0.024701</td>\n",
       "      <td>0.004492</td>\n",
       "      <td>0.008128</td>\n",
       "      <td>0.011294</td>\n",
       "      <td>0.028799</td>\n",
       "    </tr>\n",
       "    <tr>\n",
       "      <th>2019-02-05</th>\n",
       "      <td>0.017109</td>\n",
       "      <td>0.033199</td>\n",
       "      <td>0.007692</td>\n",
       "      <td>0.002663</td>\n",
       "      <td>0.000203</td>\n",
       "      <td>0.013997</td>\n",
       "    </tr>\n",
       "  </tbody>\n",
       "</table>\n",
       "<p>2288 rows × 6 columns</p>\n",
       "</div>"
      ],
      "text/plain": [
       "                AAPL        BA       DIS       IBM        KO      MSFT\n",
       "Date                                                                  \n",
       "2010-01-04  0.015565  0.037872 -0.005581  0.011841  0.000702  0.015420\n",
       "2010-01-05  0.001729  0.032752 -0.002495 -0.012080 -0.012097  0.000323\n",
       "2010-01-06 -0.015906  0.030334 -0.005314 -0.006496 -0.000355 -0.006137\n",
       "2010-01-07 -0.001849  0.040482  0.000314 -0.003462 -0.002485 -0.010400\n",
       "2010-01-08  0.006648 -0.009646  0.001571  0.010035 -0.018509  0.006897\n",
       "...              ...       ...       ...       ...       ...       ...\n",
       "2019-01-30  0.068335  0.062509 -0.006943  0.000372  0.009705  0.033417\n",
       "2019-01-31  0.007201 -0.005416  0.012621  0.000298  0.005641 -0.018330\n",
       "2019-02-01  0.000481  0.004694 -0.001973 -0.002381  0.011843 -0.015800\n",
       "2019-02-04  0.028405  0.024701  0.004492  0.008128  0.011294  0.028799\n",
       "2019-02-05  0.017109  0.033199  0.007692  0.002663  0.000203  0.013997\n",
       "\n",
       "[2288 rows x 6 columns]"
      ]
     },
     "execution_count": 36,
     "metadata": {},
     "output_type": "execute_result"
    }
   ],
   "source": [
    "close.pct_change().dropna()"
   ]
  },
  {
   "cell_type": "code",
   "execution_count": 37,
   "metadata": {},
   "outputs": [],
   "source": [
    "ret_close = close.pct_change().dropna()"
   ]
  },
  {
   "cell_type": "code",
   "execution_count": 38,
   "metadata": {},
   "outputs": [
    {
     "data": {
      "text/html": [
       "<div>\n",
       "<style scoped>\n",
       "    .dataframe tbody tr th:only-of-type {\n",
       "        vertical-align: middle;\n",
       "    }\n",
       "\n",
       "    .dataframe tbody tr th {\n",
       "        vertical-align: top;\n",
       "    }\n",
       "\n",
       "    .dataframe thead th {\n",
       "        text-align: right;\n",
       "    }\n",
       "</style>\n",
       "<table border=\"1\" class=\"dataframe\">\n",
       "  <thead>\n",
       "    <tr style=\"text-align: right;\">\n",
       "      <th></th>\n",
       "      <th>AAPL</th>\n",
       "      <th>BA</th>\n",
       "      <th>DIS</th>\n",
       "      <th>IBM</th>\n",
       "      <th>KO</th>\n",
       "      <th>MSFT</th>\n",
       "    </tr>\n",
       "    <tr>\n",
       "      <th>Date</th>\n",
       "      <th></th>\n",
       "      <th></th>\n",
       "      <th></th>\n",
       "      <th></th>\n",
       "      <th></th>\n",
       "      <th></th>\n",
       "    </tr>\n",
       "  </thead>\n",
       "  <tbody>\n",
       "    <tr>\n",
       "      <th>2010-01-04</th>\n",
       "      <td>0.015565</td>\n",
       "      <td>0.037872</td>\n",
       "      <td>-0.005581</td>\n",
       "      <td>0.011841</td>\n",
       "      <td>0.000702</td>\n",
       "      <td>0.015420</td>\n",
       "    </tr>\n",
       "    <tr>\n",
       "      <th>2010-01-05</th>\n",
       "      <td>0.001729</td>\n",
       "      <td>0.032752</td>\n",
       "      <td>-0.002495</td>\n",
       "      <td>-0.012080</td>\n",
       "      <td>-0.012097</td>\n",
       "      <td>0.000323</td>\n",
       "    </tr>\n",
       "    <tr>\n",
       "      <th>2010-01-06</th>\n",
       "      <td>-0.015906</td>\n",
       "      <td>0.030334</td>\n",
       "      <td>-0.005314</td>\n",
       "      <td>-0.006496</td>\n",
       "      <td>-0.000355</td>\n",
       "      <td>-0.006137</td>\n",
       "    </tr>\n",
       "    <tr>\n",
       "      <th>2010-01-07</th>\n",
       "      <td>-0.001849</td>\n",
       "      <td>0.040482</td>\n",
       "      <td>0.000314</td>\n",
       "      <td>-0.003462</td>\n",
       "      <td>-0.002485</td>\n",
       "      <td>-0.010400</td>\n",
       "    </tr>\n",
       "    <tr>\n",
       "      <th>2010-01-08</th>\n",
       "      <td>0.006648</td>\n",
       "      <td>-0.009646</td>\n",
       "      <td>0.001571</td>\n",
       "      <td>0.010035</td>\n",
       "      <td>-0.018509</td>\n",
       "      <td>0.006897</td>\n",
       "    </tr>\n",
       "  </tbody>\n",
       "</table>\n",
       "</div>"
      ],
      "text/plain": [
       "                AAPL        BA       DIS       IBM        KO      MSFT\n",
       "Date                                                                  \n",
       "2010-01-04  0.015565  0.037872 -0.005581  0.011841  0.000702  0.015420\n",
       "2010-01-05  0.001729  0.032752 -0.002495 -0.012080 -0.012097  0.000323\n",
       "2010-01-06 -0.015906  0.030334 -0.005314 -0.006496 -0.000355 -0.006137\n",
       "2010-01-07 -0.001849  0.040482  0.000314 -0.003462 -0.002485 -0.010400\n",
       "2010-01-08  0.006648 -0.009646  0.001571  0.010035 -0.018509  0.006897"
      ]
     },
     "execution_count": 38,
     "metadata": {},
     "output_type": "execute_result"
    }
   ],
   "source": [
    "ret_close.head()"
   ]
  },
  {
   "cell_type": "code",
   "execution_count": 39,
   "metadata": {},
   "outputs": [
    {
     "data": {
      "text/html": [
       "<div>\n",
       "<style scoped>\n",
       "    .dataframe tbody tr th:only-of-type {\n",
       "        vertical-align: middle;\n",
       "    }\n",
       "\n",
       "    .dataframe tbody tr th {\n",
       "        vertical-align: top;\n",
       "    }\n",
       "\n",
       "    .dataframe thead th {\n",
       "        text-align: right;\n",
       "    }\n",
       "</style>\n",
       "<table border=\"1\" class=\"dataframe\">\n",
       "  <thead>\n",
       "    <tr style=\"text-align: right;\">\n",
       "      <th></th>\n",
       "      <th>AAPL</th>\n",
       "      <th>BA</th>\n",
       "      <th>DIS</th>\n",
       "      <th>IBM</th>\n",
       "      <th>KO</th>\n",
       "      <th>MSFT</th>\n",
       "    </tr>\n",
       "  </thead>\n",
       "  <tbody>\n",
       "    <tr>\n",
       "      <th>count</th>\n",
       "      <td>2288.000000</td>\n",
       "      <td>2288.000000</td>\n",
       "      <td>2288.000000</td>\n",
       "      <td>2288.000000</td>\n",
       "      <td>2288.000000</td>\n",
       "      <td>2288.000000</td>\n",
       "    </tr>\n",
       "    <tr>\n",
       "      <th>mean</th>\n",
       "      <td>0.000902</td>\n",
       "      <td>0.001006</td>\n",
       "      <td>0.000633</td>\n",
       "      <td>0.000093</td>\n",
       "      <td>0.000282</td>\n",
       "      <td>0.000656</td>\n",
       "    </tr>\n",
       "    <tr>\n",
       "      <th>std</th>\n",
       "      <td>0.016394</td>\n",
       "      <td>0.015504</td>\n",
       "      <td>0.013136</td>\n",
       "      <td>0.012429</td>\n",
       "      <td>0.009205</td>\n",
       "      <td>0.014579</td>\n",
       "    </tr>\n",
       "    <tr>\n",
       "      <th>min</th>\n",
       "      <td>-0.123558</td>\n",
       "      <td>-0.089290</td>\n",
       "      <td>-0.091708</td>\n",
       "      <td>-0.082790</td>\n",
       "      <td>-0.060291</td>\n",
       "      <td>-0.113995</td>\n",
       "    </tr>\n",
       "    <tr>\n",
       "      <th>25%</th>\n",
       "      <td>-0.007055</td>\n",
       "      <td>-0.007174</td>\n",
       "      <td>-0.005795</td>\n",
       "      <td>-0.005996</td>\n",
       "      <td>-0.004521</td>\n",
       "      <td>-0.006899</td>\n",
       "    </tr>\n",
       "    <tr>\n",
       "      <th>50%</th>\n",
       "      <td>0.000762</td>\n",
       "      <td>0.001101</td>\n",
       "      <td>0.000750</td>\n",
       "      <td>0.000220</td>\n",
       "      <td>0.000442</td>\n",
       "      <td>0.000355</td>\n",
       "    </tr>\n",
       "    <tr>\n",
       "      <th>75%</th>\n",
       "      <td>0.009673</td>\n",
       "      <td>0.009395</td>\n",
       "      <td>0.007514</td>\n",
       "      <td>0.006402</td>\n",
       "      <td>0.005463</td>\n",
       "      <td>0.008098</td>\n",
       "    </tr>\n",
       "    <tr>\n",
       "      <th>max</th>\n",
       "      <td>0.088741</td>\n",
       "      <td>0.098795</td>\n",
       "      <td>0.076302</td>\n",
       "      <td>0.088645</td>\n",
       "      <td>0.056872</td>\n",
       "      <td>0.104522</td>\n",
       "    </tr>\n",
       "  </tbody>\n",
       "</table>\n",
       "</div>"
      ],
      "text/plain": [
       "              AAPL           BA          DIS          IBM           KO  \\\n",
       "count  2288.000000  2288.000000  2288.000000  2288.000000  2288.000000   \n",
       "mean      0.000902     0.001006     0.000633     0.000093     0.000282   \n",
       "std       0.016394     0.015504     0.013136     0.012429     0.009205   \n",
       "min      -0.123558    -0.089290    -0.091708    -0.082790    -0.060291   \n",
       "25%      -0.007055    -0.007174    -0.005795    -0.005996    -0.004521   \n",
       "50%       0.000762     0.001101     0.000750     0.000220     0.000442   \n",
       "75%       0.009673     0.009395     0.007514     0.006402     0.005463   \n",
       "max       0.088741     0.098795     0.076302     0.088645     0.056872   \n",
       "\n",
       "              MSFT  \n",
       "count  2288.000000  \n",
       "mean      0.000656  \n",
       "std       0.014579  \n",
       "min      -0.113995  \n",
       "25%      -0.006899  \n",
       "50%       0.000355  \n",
       "75%       0.008098  \n",
       "max       0.104522  "
      ]
     },
     "execution_count": 39,
     "metadata": {},
     "output_type": "execute_result"
    }
   ],
   "source": [
    "ret_close.describe()"
   ]
  },
  {
   "cell_type": "code",
   "execution_count": 40,
   "metadata": {},
   "outputs": [
    {
     "data": {
      "text/html": [
       "<div>\n",
       "<style scoped>\n",
       "    .dataframe tbody tr th:only-of-type {\n",
       "        vertical-align: middle;\n",
       "    }\n",
       "\n",
       "    .dataframe tbody tr th {\n",
       "        vertical-align: top;\n",
       "    }\n",
       "\n",
       "    .dataframe thead th {\n",
       "        text-align: right;\n",
       "    }\n",
       "</style>\n",
       "<table border=\"1\" class=\"dataframe\">\n",
       "  <thead>\n",
       "    <tr style=\"text-align: right;\">\n",
       "      <th></th>\n",
       "      <th>count</th>\n",
       "      <th>mean</th>\n",
       "      <th>std</th>\n",
       "      <th>min</th>\n",
       "      <th>25%</th>\n",
       "      <th>50%</th>\n",
       "      <th>75%</th>\n",
       "      <th>max</th>\n",
       "    </tr>\n",
       "  </thead>\n",
       "  <tbody>\n",
       "    <tr>\n",
       "      <th>AAPL</th>\n",
       "      <td>2288.0</td>\n",
       "      <td>0.000902</td>\n",
       "      <td>0.016394</td>\n",
       "      <td>-0.123558</td>\n",
       "      <td>-0.007055</td>\n",
       "      <td>0.000762</td>\n",
       "      <td>0.009673</td>\n",
       "      <td>0.088741</td>\n",
       "    </tr>\n",
       "    <tr>\n",
       "      <th>BA</th>\n",
       "      <td>2288.0</td>\n",
       "      <td>0.001006</td>\n",
       "      <td>0.015504</td>\n",
       "      <td>-0.089290</td>\n",
       "      <td>-0.007174</td>\n",
       "      <td>0.001101</td>\n",
       "      <td>0.009395</td>\n",
       "      <td>0.098795</td>\n",
       "    </tr>\n",
       "    <tr>\n",
       "      <th>DIS</th>\n",
       "      <td>2288.0</td>\n",
       "      <td>0.000633</td>\n",
       "      <td>0.013136</td>\n",
       "      <td>-0.091708</td>\n",
       "      <td>-0.005795</td>\n",
       "      <td>0.000750</td>\n",
       "      <td>0.007514</td>\n",
       "      <td>0.076302</td>\n",
       "    </tr>\n",
       "    <tr>\n",
       "      <th>IBM</th>\n",
       "      <td>2288.0</td>\n",
       "      <td>0.000093</td>\n",
       "      <td>0.012429</td>\n",
       "      <td>-0.082790</td>\n",
       "      <td>-0.005996</td>\n",
       "      <td>0.000220</td>\n",
       "      <td>0.006402</td>\n",
       "      <td>0.088645</td>\n",
       "    </tr>\n",
       "    <tr>\n",
       "      <th>KO</th>\n",
       "      <td>2288.0</td>\n",
       "      <td>0.000282</td>\n",
       "      <td>0.009205</td>\n",
       "      <td>-0.060291</td>\n",
       "      <td>-0.004521</td>\n",
       "      <td>0.000442</td>\n",
       "      <td>0.005463</td>\n",
       "      <td>0.056872</td>\n",
       "    </tr>\n",
       "    <tr>\n",
       "      <th>MSFT</th>\n",
       "      <td>2288.0</td>\n",
       "      <td>0.000656</td>\n",
       "      <td>0.014579</td>\n",
       "      <td>-0.113995</td>\n",
       "      <td>-0.006899</td>\n",
       "      <td>0.000355</td>\n",
       "      <td>0.008098</td>\n",
       "      <td>0.104522</td>\n",
       "    </tr>\n",
       "  </tbody>\n",
       "</table>\n",
       "</div>"
      ],
      "text/plain": [
       "       count      mean       std       min       25%       50%       75%  \\\n",
       "AAPL  2288.0  0.000902  0.016394 -0.123558 -0.007055  0.000762  0.009673   \n",
       "BA    2288.0  0.001006  0.015504 -0.089290 -0.007174  0.001101  0.009395   \n",
       "DIS   2288.0  0.000633  0.013136 -0.091708 -0.005795  0.000750  0.007514   \n",
       "IBM   2288.0  0.000093  0.012429 -0.082790 -0.005996  0.000220  0.006402   \n",
       "KO    2288.0  0.000282  0.009205 -0.060291 -0.004521  0.000442  0.005463   \n",
       "MSFT  2288.0  0.000656  0.014579 -0.113995 -0.006899  0.000355  0.008098   \n",
       "\n",
       "           max  \n",
       "AAPL  0.088741  \n",
       "BA    0.098795  \n",
       "DIS   0.076302  \n",
       "IBM   0.088645  \n",
       "KO    0.056872  \n",
       "MSFT  0.104522  "
      ]
     },
     "execution_count": 40,
     "metadata": {},
     "output_type": "execute_result"
    }
   ],
   "source": [
    "ret_close.describe().T"
   ]
  },
  {
   "cell_type": "code",
   "execution_count": 42,
   "metadata": {},
   "outputs": [],
   "source": [
    "summary =ret_close.describe().T.loc[:,['mean','std']]"
   ]
  },
  {
   "cell_type": "code",
   "execution_count": 43,
   "metadata": {},
   "outputs": [
    {
     "data": {
      "text/html": [
       "<div>\n",
       "<style scoped>\n",
       "    .dataframe tbody tr th:only-of-type {\n",
       "        vertical-align: middle;\n",
       "    }\n",
       "\n",
       "    .dataframe tbody tr th {\n",
       "        vertical-align: top;\n",
       "    }\n",
       "\n",
       "    .dataframe thead th {\n",
       "        text-align: right;\n",
       "    }\n",
       "</style>\n",
       "<table border=\"1\" class=\"dataframe\">\n",
       "  <thead>\n",
       "    <tr style=\"text-align: right;\">\n",
       "      <th></th>\n",
       "      <th>mean</th>\n",
       "      <th>std</th>\n",
       "    </tr>\n",
       "  </thead>\n",
       "  <tbody>\n",
       "    <tr>\n",
       "      <th>AAPL</th>\n",
       "      <td>0.000902</td>\n",
       "      <td>0.016394</td>\n",
       "    </tr>\n",
       "    <tr>\n",
       "      <th>BA</th>\n",
       "      <td>0.001006</td>\n",
       "      <td>0.015504</td>\n",
       "    </tr>\n",
       "    <tr>\n",
       "      <th>DIS</th>\n",
       "      <td>0.000633</td>\n",
       "      <td>0.013136</td>\n",
       "    </tr>\n",
       "    <tr>\n",
       "      <th>IBM</th>\n",
       "      <td>0.000093</td>\n",
       "      <td>0.012429</td>\n",
       "    </tr>\n",
       "    <tr>\n",
       "      <th>KO</th>\n",
       "      <td>0.000282</td>\n",
       "      <td>0.009205</td>\n",
       "    </tr>\n",
       "    <tr>\n",
       "      <th>MSFT</th>\n",
       "      <td>0.000656</td>\n",
       "      <td>0.014579</td>\n",
       "    </tr>\n",
       "  </tbody>\n",
       "</table>\n",
       "</div>"
      ],
      "text/plain": [
       "          mean       std\n",
       "AAPL  0.000902  0.016394\n",
       "BA    0.001006  0.015504\n",
       "DIS   0.000633  0.013136\n",
       "IBM   0.000093  0.012429\n",
       "KO    0.000282  0.009205\n",
       "MSFT  0.000656  0.014579"
      ]
     },
     "execution_count": 43,
     "metadata": {},
     "output_type": "execute_result"
    }
   ],
   "source": [
    "summary"
   ]
  },
  {
   "cell_type": "code",
   "execution_count": 44,
   "metadata": {},
   "outputs": [],
   "source": [
    "#annual"
   ]
  },
  {
   "cell_type": "code",
   "execution_count": 45,
   "metadata": {},
   "outputs": [],
   "source": [
    "summary['mean'] = summary['mean']*252\n",
    "summary['std'] = summary['std']*252"
   ]
  },
  {
   "cell_type": "code",
   "execution_count": 46,
   "metadata": {},
   "outputs": [
    {
     "data": {
      "text/html": [
       "<div>\n",
       "<style scoped>\n",
       "    .dataframe tbody tr th:only-of-type {\n",
       "        vertical-align: middle;\n",
       "    }\n",
       "\n",
       "    .dataframe tbody tr th {\n",
       "        vertical-align: top;\n",
       "    }\n",
       "\n",
       "    .dataframe thead th {\n",
       "        text-align: right;\n",
       "    }\n",
       "</style>\n",
       "<table border=\"1\" class=\"dataframe\">\n",
       "  <thead>\n",
       "    <tr style=\"text-align: right;\">\n",
       "      <th></th>\n",
       "      <th>mean</th>\n",
       "      <th>std</th>\n",
       "    </tr>\n",
       "  </thead>\n",
       "  <tbody>\n",
       "    <tr>\n",
       "      <th>AAPL</th>\n",
       "      <td>0.227324</td>\n",
       "      <td>4.131230</td>\n",
       "    </tr>\n",
       "    <tr>\n",
       "      <th>BA</th>\n",
       "      <td>0.253438</td>\n",
       "      <td>3.907064</td>\n",
       "    </tr>\n",
       "    <tr>\n",
       "      <th>DIS</th>\n",
       "      <td>0.159602</td>\n",
       "      <td>3.310376</td>\n",
       "    </tr>\n",
       "    <tr>\n",
       "      <th>IBM</th>\n",
       "      <td>0.023376</td>\n",
       "      <td>3.132120</td>\n",
       "    </tr>\n",
       "    <tr>\n",
       "      <th>KO</th>\n",
       "      <td>0.070970</td>\n",
       "      <td>2.319732</td>\n",
       "    </tr>\n",
       "    <tr>\n",
       "      <th>MSFT</th>\n",
       "      <td>0.165324</td>\n",
       "      <td>3.674010</td>\n",
       "    </tr>\n",
       "  </tbody>\n",
       "</table>\n",
       "</div>"
      ],
      "text/plain": [
       "          mean       std\n",
       "AAPL  0.227324  4.131230\n",
       "BA    0.253438  3.907064\n",
       "DIS   0.159602  3.310376\n",
       "IBM   0.023376  3.132120\n",
       "KO    0.070970  2.319732\n",
       "MSFT  0.165324  3.674010"
      ]
     },
     "execution_count": 46,
     "metadata": {},
     "output_type": "execute_result"
    }
   ],
   "source": [
    "summary"
   ]
  },
  {
   "cell_type": "code",
   "execution_count": 47,
   "metadata": {},
   "outputs": [],
   "source": [
    "#plotting"
   ]
  },
  {
   "cell_type": "code",
   "execution_count": 51,
   "metadata": {},
   "outputs": [
    {
     "data": {
      "image/png": "[encoded data removed]",
      "text/plain": [
       "<Figure size 864x576 with 1 Axes>"
      ]
     },
     "metadata": {
      "needs_background": "light"
     },
     "output_type": "display_data"
    }
   ],
   "source": [
    "summary.plot.scatter(x='std',y='mean',figsize=(12,8),s=50,fontsize=15)\n",
    "for i in summary.index:\n",
    "    plt.annotate(i,xy=(summary.loc[i,'std']+0.002,summary.loc[i,'mean']+0.002),fontsize=15)\n",
    "plt.xlabel('Annual Risk(std)',fontsize=12)\n",
    "plt.ylabel('Annual Return(mean)',fontsize=12)\n",
    "plt.title('Risk/Return',fontsize=12)\n",
    "plt.show()"
   ]
  },
  {
   "cell_type": "code",
   "execution_count": 53,
   "metadata": {},
   "outputs": [
    {
     "data": {
      "text/html": [
       "<div>\n",
       "<style scoped>\n",
       "    .dataframe tbody tr th:only-of-type {\n",
       "        vertical-align: middle;\n",
       "    }\n",
       "\n",
       "    .dataframe tbody tr th {\n",
       "        vertical-align: top;\n",
       "    }\n",
       "\n",
       "    .dataframe thead th {\n",
       "        text-align: right;\n",
       "    }\n",
       "</style>\n",
       "<table border=\"1\" class=\"dataframe\">\n",
       "  <thead>\n",
       "    <tr style=\"text-align: right;\">\n",
       "      <th></th>\n",
       "      <th>AAPL</th>\n",
       "      <th>BA</th>\n",
       "      <th>DIS</th>\n",
       "      <th>IBM</th>\n",
       "      <th>KO</th>\n",
       "      <th>MSFT</th>\n",
       "    </tr>\n",
       "    <tr>\n",
       "      <th>Date</th>\n",
       "      <th></th>\n",
       "      <th></th>\n",
       "      <th></th>\n",
       "      <th></th>\n",
       "      <th></th>\n",
       "      <th></th>\n",
       "    </tr>\n",
       "  </thead>\n",
       "  <tbody>\n",
       "    <tr>\n",
       "      <th>2010-01-04</th>\n",
       "      <td>0.015565</td>\n",
       "      <td>0.037872</td>\n",
       "      <td>-0.005581</td>\n",
       "      <td>0.011841</td>\n",
       "      <td>0.000702</td>\n",
       "      <td>0.015420</td>\n",
       "    </tr>\n",
       "    <tr>\n",
       "      <th>2010-01-05</th>\n",
       "      <td>0.001729</td>\n",
       "      <td>0.032752</td>\n",
       "      <td>-0.002495</td>\n",
       "      <td>-0.012080</td>\n",
       "      <td>-0.012097</td>\n",
       "      <td>0.000323</td>\n",
       "    </tr>\n",
       "    <tr>\n",
       "      <th>2010-01-06</th>\n",
       "      <td>-0.015906</td>\n",
       "      <td>0.030334</td>\n",
       "      <td>-0.005314</td>\n",
       "      <td>-0.006496</td>\n",
       "      <td>-0.000355</td>\n",
       "      <td>-0.006137</td>\n",
       "    </tr>\n",
       "    <tr>\n",
       "      <th>2010-01-07</th>\n",
       "      <td>-0.001849</td>\n",
       "      <td>0.040482</td>\n",
       "      <td>0.000314</td>\n",
       "      <td>-0.003462</td>\n",
       "      <td>-0.002485</td>\n",
       "      <td>-0.010400</td>\n",
       "    </tr>\n",
       "    <tr>\n",
       "      <th>2010-01-08</th>\n",
       "      <td>0.006648</td>\n",
       "      <td>-0.009646</td>\n",
       "      <td>0.001571</td>\n",
       "      <td>0.010035</td>\n",
       "      <td>-0.018509</td>\n",
       "      <td>0.006897</td>\n",
       "    </tr>\n",
       "  </tbody>\n",
       "</table>\n",
       "</div>"
      ],
      "text/plain": [
       "                AAPL        BA       DIS       IBM        KO      MSFT\n",
       "Date                                                                  \n",
       "2010-01-04  0.015565  0.037872 -0.005581  0.011841  0.000702  0.015420\n",
       "2010-01-05  0.001729  0.032752 -0.002495 -0.012080 -0.012097  0.000323\n",
       "2010-01-06 -0.015906  0.030334 -0.005314 -0.006496 -0.000355 -0.006137\n",
       "2010-01-07 -0.001849  0.040482  0.000314 -0.003462 -0.002485 -0.010400\n",
       "2010-01-08  0.006648 -0.009646  0.001571  0.010035 -0.018509  0.006897"
      ]
     },
     "execution_count": 53,
     "metadata": {},
     "output_type": "execute_result"
    }
   ],
   "source": [
    "ret_close.head()"
   ]
  },
  {
   "cell_type": "code",
   "execution_count": 54,
   "metadata": {},
   "outputs": [
    {
     "data": {
      "text/html": [
       "<div>\n",
       "<style scoped>\n",
       "    .dataframe tbody tr th:only-of-type {\n",
       "        vertical-align: middle;\n",
       "    }\n",
       "\n",
       "    .dataframe tbody tr th {\n",
       "        vertical-align: top;\n",
       "    }\n",
       "\n",
       "    .dataframe thead th {\n",
       "        text-align: right;\n",
       "    }\n",
       "</style>\n",
       "<table border=\"1\" class=\"dataframe\">\n",
       "  <thead>\n",
       "    <tr style=\"text-align: right;\">\n",
       "      <th></th>\n",
       "      <th>AAPL</th>\n",
       "      <th>BA</th>\n",
       "      <th>DIS</th>\n",
       "      <th>IBM</th>\n",
       "      <th>KO</th>\n",
       "      <th>MSFT</th>\n",
       "    </tr>\n",
       "  </thead>\n",
       "  <tbody>\n",
       "    <tr>\n",
       "      <th>AAPL</th>\n",
       "      <td>0.000269</td>\n",
       "      <td>0.000104</td>\n",
       "      <td>0.000080</td>\n",
       "      <td>0.000076</td>\n",
       "      <td>0.000040</td>\n",
       "      <td>0.000107</td>\n",
       "    </tr>\n",
       "    <tr>\n",
       "      <th>BA</th>\n",
       "      <td>0.000104</td>\n",
       "      <td>0.000240</td>\n",
       "      <td>0.000105</td>\n",
       "      <td>0.000089</td>\n",
       "      <td>0.000057</td>\n",
       "      <td>0.000101</td>\n",
       "    </tr>\n",
       "    <tr>\n",
       "      <th>DIS</th>\n",
       "      <td>0.000080</td>\n",
       "      <td>0.000105</td>\n",
       "      <td>0.000173</td>\n",
       "      <td>0.000073</td>\n",
       "      <td>0.000052</td>\n",
       "      <td>0.000086</td>\n",
       "    </tr>\n",
       "    <tr>\n",
       "      <th>IBM</th>\n",
       "      <td>0.000076</td>\n",
       "      <td>0.000089</td>\n",
       "      <td>0.000073</td>\n",
       "      <td>0.000154</td>\n",
       "      <td>0.000047</td>\n",
       "      <td>0.000088</td>\n",
       "    </tr>\n",
       "    <tr>\n",
       "      <th>KO</th>\n",
       "      <td>0.000040</td>\n",
       "      <td>0.000057</td>\n",
       "      <td>0.000052</td>\n",
       "      <td>0.000047</td>\n",
       "      <td>0.000085</td>\n",
       "      <td>0.000051</td>\n",
       "    </tr>\n",
       "    <tr>\n",
       "      <th>MSFT</th>\n",
       "      <td>0.000107</td>\n",
       "      <td>0.000101</td>\n",
       "      <td>0.000086</td>\n",
       "      <td>0.000088</td>\n",
       "      <td>0.000051</td>\n",
       "      <td>0.000213</td>\n",
       "    </tr>\n",
       "  </tbody>\n",
       "</table>\n",
       "</div>"
      ],
      "text/plain": [
       "          AAPL        BA       DIS       IBM        KO      MSFT\n",
       "AAPL  0.000269  0.000104  0.000080  0.000076  0.000040  0.000107\n",
       "BA    0.000104  0.000240  0.000105  0.000089  0.000057  0.000101\n",
       "DIS   0.000080  0.000105  0.000173  0.000073  0.000052  0.000086\n",
       "IBM   0.000076  0.000089  0.000073  0.000154  0.000047  0.000088\n",
       "KO    0.000040  0.000057  0.000052  0.000047  0.000085  0.000051\n",
       "MSFT  0.000107  0.000101  0.000086  0.000088  0.000051  0.000213"
      ]
     },
     "execution_count": 54,
     "metadata": {},
     "output_type": "execute_result"
    }
   ],
   "source": [
    "ret_close.cov()"
   ]
  },
  {
   "cell_type": "code",
   "execution_count": 55,
   "metadata": {},
   "outputs": [],
   "source": [
    "#portfolio risk"
   ]
  },
  {
   "cell_type": "code",
   "execution_count": 56,
   "metadata": {},
   "outputs": [
    {
     "data": {
      "text/html": [
       "<div>\n",
       "<style scoped>\n",
       "    .dataframe tbody tr th:only-of-type {\n",
       "        vertical-align: middle;\n",
       "    }\n",
       "\n",
       "    .dataframe tbody tr th {\n",
       "        vertical-align: top;\n",
       "    }\n",
       "\n",
       "    .dataframe thead th {\n",
       "        text-align: right;\n",
       "    }\n",
       "</style>\n",
       "<table border=\"1\" class=\"dataframe\">\n",
       "  <thead>\n",
       "    <tr style=\"text-align: right;\">\n",
       "      <th></th>\n",
       "      <th>AAPL</th>\n",
       "      <th>BA</th>\n",
       "      <th>DIS</th>\n",
       "      <th>IBM</th>\n",
       "      <th>KO</th>\n",
       "      <th>MSFT</th>\n",
       "    </tr>\n",
       "  </thead>\n",
       "  <tbody>\n",
       "    <tr>\n",
       "      <th>AAPL</th>\n",
       "      <td>1.000000</td>\n",
       "      <td>0.410268</td>\n",
       "      <td>0.372869</td>\n",
       "      <td>0.374978</td>\n",
       "      <td>0.266914</td>\n",
       "      <td>0.447375</td>\n",
       "    </tr>\n",
       "    <tr>\n",
       "      <th>BA</th>\n",
       "      <td>0.410268</td>\n",
       "      <td>1.000000</td>\n",
       "      <td>0.517183</td>\n",
       "      <td>0.459619</td>\n",
       "      <td>0.400967</td>\n",
       "      <td>0.447268</td>\n",
       "    </tr>\n",
       "    <tr>\n",
       "      <th>DIS</th>\n",
       "      <td>0.372869</td>\n",
       "      <td>0.517183</td>\n",
       "      <td>1.000000</td>\n",
       "      <td>0.448426</td>\n",
       "      <td>0.432642</td>\n",
       "      <td>0.450547</td>\n",
       "    </tr>\n",
       "    <tr>\n",
       "      <th>IBM</th>\n",
       "      <td>0.374978</td>\n",
       "      <td>0.459619</td>\n",
       "      <td>0.448426</td>\n",
       "      <td>1.000000</td>\n",
       "      <td>0.407340</td>\n",
       "      <td>0.486098</td>\n",
       "    </tr>\n",
       "    <tr>\n",
       "      <th>KO</th>\n",
       "      <td>0.266914</td>\n",
       "      <td>0.400967</td>\n",
       "      <td>0.432642</td>\n",
       "      <td>0.407340</td>\n",
       "      <td>1.000000</td>\n",
       "      <td>0.378116</td>\n",
       "    </tr>\n",
       "    <tr>\n",
       "      <th>MSFT</th>\n",
       "      <td>0.447375</td>\n",
       "      <td>0.447268</td>\n",
       "      <td>0.450547</td>\n",
       "      <td>0.486098</td>\n",
       "      <td>0.378116</td>\n",
       "      <td>1.000000</td>\n",
       "    </tr>\n",
       "  </tbody>\n",
       "</table>\n",
       "</div>"
      ],
      "text/plain": [
       "          AAPL        BA       DIS       IBM        KO      MSFT\n",
       "AAPL  1.000000  0.410268  0.372869  0.374978  0.266914  0.447375\n",
       "BA    0.410268  1.000000  0.517183  0.459619  0.400967  0.447268\n",
       "DIS   0.372869  0.517183  1.000000  0.448426  0.432642  0.450547\n",
       "IBM   0.374978  0.459619  0.448426  1.000000  0.407340  0.486098\n",
       "KO    0.266914  0.400967  0.432642  0.407340  1.000000  0.378116\n",
       "MSFT  0.447375  0.447268  0.450547  0.486098  0.378116  1.000000"
      ]
     },
     "execution_count": 56,
     "metadata": {},
     "output_type": "execute_result"
    }
   ],
   "source": [
    "ret_close.corr()"
   ]
  },
  {
   "cell_type": "code",
   "execution_count": 58,
   "metadata": {},
   "outputs": [
    {
     "data": {
      "image/png": "[encoded data removed]",
      "text/plain": [
       "<Figure size 864x576 with 2 Axes>"
      ]
     },
     "metadata": {},
     "output_type": "display_data"
    }
   ],
   "source": [
    "plt.figure(figsize=(12,8))\n",
    "sns.set(font_scale=1.4)\n",
    "sns.heatmap(ret_close.corr(),cmap='rainbow',annot=True,annot_kws={'size':14},vmax=0.6)\n",
    "plt.show()"
   ]
  },
  {
   "cell_type": "code",
   "execution_count": null,
   "metadata": {},
   "outputs": [],
   "source": []
  }
 ],
 "metadata": {
  "kernelspec": {
   "display_name": "Python 3",
   "language": "python",
   "name": "python3"
  },
  "language_info": {
   "codemirror_mode": {
    "name": "ipython",
    "version": 3
   },
   "file_extension": ".py",
   "mimetype": "text/x-python",
   "name": "python",
   "nbconvert_exporter": "python",
   "pygments_lexer": "ipython3",
   "version": "3.7.0"
  }
 },
 "nbformat": 4,
 "nbformat_minor": 2
}
